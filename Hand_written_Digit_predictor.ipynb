{
 "cells": [
  {
   "cell_type": "markdown",
   "id": "3521a99c",
   "metadata": {},
   "source": [
    "\n",
    "\n",
    "# "
   ]
  },
  {
   "cell_type": "code",
   "execution_count": 1,
   "id": "1811df82",
   "metadata": {},
   "outputs": [
    {
     "name": "stdout",
     "output_type": "stream",
     "text": [
      "WARNING:tensorflow:From C:\\python310\\lib\\site-packages\\keras\\src\\losses.py:2976: The name tf.losses.sparse_softmax_cross_entropy is deprecated. Please use tf.compat.v1.losses.sparse_softmax_cross_entropy instead.\n",
      "\n",
      "Downloading data from https://storage.googleapis.com/tensorflow/tf-keras-datasets/mnist.npz\n",
      "11490434/11490434 [==============================] - 2s 0us/step\n",
      "WARNING:tensorflow:From C:\\python310\\lib\\site-packages\\keras\\src\\backend.py:873: The name tf.get_default_graph is deprecated. Please use tf.compat.v1.get_default_graph instead.\n",
      "\n",
      "Epoch 1/10\n",
      "WARNING:tensorflow:From C:\\python310\\lib\\site-packages\\keras\\src\\utils\\tf_utils.py:492: The name tf.ragged.RaggedTensorValue is deprecated. Please use tf.compat.v1.ragged.RaggedTensorValue instead.\n",
      "\n",
      "WARNING:tensorflow:From C:\\python310\\lib\\site-packages\\keras\\src\\engine\\base_layer_utils.py:384: The name tf.executing_eagerly_outside_functions is deprecated. Please use tf.compat.v1.executing_eagerly_outside_functions instead.\n",
      "\n",
      "1500/1500 [==============================] - 3s 2ms/step - loss: 0.3297 - accuracy: 0.9049 - val_loss: 0.1950 - val_accuracy: 0.9416\n",
      "Epoch 2/10\n",
      "1500/1500 [==============================] - 3s 2ms/step - loss: 0.1581 - accuracy: 0.9544 - val_loss: 0.1376 - val_accuracy: 0.9606\n",
      "Epoch 3/10\n",
      "1500/1500 [==============================] - 2s 2ms/step - loss: 0.1162 - accuracy: 0.9658 - val_loss: 0.1163 - val_accuracy: 0.9662\n",
      "Epoch 4/10\n",
      "1500/1500 [==============================] - 3s 2ms/step - loss: 0.0908 - accuracy: 0.9740 - val_loss: 0.1030 - val_accuracy: 0.9684\n",
      "Epoch 5/10\n",
      "1500/1500 [==============================] - 2s 2ms/step - loss: 0.0740 - accuracy: 0.9787 - val_loss: 0.0971 - val_accuracy: 0.9707\n",
      "Epoch 6/10\n",
      "1500/1500 [==============================] - 3s 2ms/step - loss: 0.0616 - accuracy: 0.9822 - val_loss: 0.0861 - val_accuracy: 0.9756\n",
      "Epoch 7/10\n",
      "1500/1500 [==============================] - 3s 2ms/step - loss: 0.0527 - accuracy: 0.9852 - val_loss: 0.0918 - val_accuracy: 0.9718\n",
      "Epoch 8/10\n",
      "1500/1500 [==============================] - 2s 2ms/step - loss: 0.0451 - accuracy: 0.9876 - val_loss: 0.0851 - val_accuracy: 0.9742\n",
      "Epoch 9/10\n",
      "1500/1500 [==============================] - 2s 2ms/step - loss: 0.0391 - accuracy: 0.9896 - val_loss: 0.0804 - val_accuracy: 0.9760\n",
      "Epoch 10/10\n",
      "1500/1500 [==============================] - 2s 2ms/step - loss: 0.0337 - accuracy: 0.9914 - val_loss: 0.0839 - val_accuracy: 0.9753\n",
      "313/313 [==============================] - 0s 1ms/step - loss: 0.0759 - accuracy: 0.9769\n",
      "Test Loss: 0.0759, Test Accuracy: 0.9769\n"
     ]
    }
   ],
   "source": [
    "\n",
    "from keras.models import Sequential\n",
    "from keras.layers import Dense\n",
    "from keras.optimizers import SGD\n",
    "from keras.datasets import mnist\n",
    "from keras.utils import to_categorical\n",
    "\n",
    "(x_train, y_train), (x_test, y_test) = mnist.load_data()\n",
    "x_train = x_train.reshape((60000, 28 * 28)).astype('float32') / 255\n",
    "x_test = x_test.reshape((10000, 28 * 28)).astype('float32') / 255\n",
    "y_train = to_categorical(y_train)\n",
    "y_test = to_categorical(y_test)\n",
    "\n",
    "model = Sequential()\n",
    "model.add(Dense(128, input_shape=(28 * 28,), activation='relu'))\n",
    "model.add(Dense(10, activation='softmax'))\n",
    "\n",
    "sgd = SGD(learning_rate=0.01, momentum=0.9)\n",
    "model.compile(optimizer=sgd, loss='categorical_crossentropy', metrics=['accuracy'])\n",
    "\n",
    "model.fit(x_train, y_train, epochs=10, batch_size=32, validation_split=0.2)\n",
    "\n",
    "test_loss, test_accuracy = model.evaluate(x_test, y_test)\n",
    "print(f'Test Loss: {test_loss:.4f}, Test Accuracy: {test_accuracy:.4f}')\n"
   ]
  },
  {
   "cell_type": "code",
   "execution_count": 7,
   "id": "b5d4be85",
   "metadata": {},
   "outputs": [
    {
     "name": "stdout",
     "output_type": "stream",
     "text": [
      "1/1 [==============================] - 0s 21ms/step\n",
      "Predicted Digit: 5\n"
     ]
    }
   ],
   "source": [
    "from keras.preprocessing import image\n",
    "import numpy as np\n",
    "img_path = 'five.png' \n",
    "img = image.load_img(img_path, target_size=(28, 28), color_mode='grayscale')\n",
    "img_array = image.img_to_array(img)\n",
    "img_array = img_array.reshape((1, 28 * 28)).astype('float32') / 255\n",
    "prediction = model.predict(img_array)\n",
    "predicted_class = np.argmax(prediction)\n",
    "\n",
    "print(f\"Predicted Digit: {predicted_class}\")\n"
   ]
  },
  {
   "cell_type": "code",
   "execution_count": null,
   "id": "a454d2b1",
   "metadata": {},
   "outputs": [],
   "source": []
  }
 ],
 "metadata": {
  "kernelspec": {
   "display_name": "Python 3 (ipykernel)",
   "language": "python",
   "name": "python3"
  },
  "language_info": {
   "codemirror_mode": {
    "name": "ipython",
    "version": 3
   },
   "file_extension": ".py",
   "mimetype": "text/x-python",
   "name": "python",
   "nbconvert_exporter": "python",
   "pygments_lexer": "ipython3",
   "version": "3.10.7"
  }
 },
 "nbformat": 4,
 "nbformat_minor": 5
}
